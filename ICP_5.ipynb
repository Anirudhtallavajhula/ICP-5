{
  "nbformat": 4,
  "nbformat_minor": 0,
  "metadata": {
    "colab": {
      "provenance": []
    },
    "kernelspec": {
      "name": "python3",
      "display_name": "Python 3"
    },
    "language_info": {
      "name": "python"
    }
  },
  "cells": [
    {
      "cell_type": "code",
      "execution_count": 2,
      "metadata": {
        "colab": {
          "base_uri": "https://localhost:8080/"
        },
        "id": "abvaMH6eSa84",
        "outputId": "55e1b59b-095b-4984-d5c3-f2986fd8fe38"
      },
      "outputs": [
        {
          "output_type": "stream",
          "name": "stdout",
          "text": [
            "Number of columns: 12\n",
            "Mean house price: 234144.26395939087\n",
            "Median house price: 213750.0\n",
            "Different types of property: ['Residential' 'Condo' 'Multi-Family' 'Unkown']\n",
            "Maximum price of a Condo: 360000\n",
            "Mean price by property type:\n",
            "type\n",
            "Condo           150082.185185\n",
            "Multi-Family    224534.692308\n",
            "Residential     239186.162486\n",
            "Unkown          275000.000000\n",
            "Name: price, dtype: float64\n",
            "Count of different property types:\n",
            "type\n",
            "Residential     917\n",
            "Condo            54\n",
            "Multi-Family     13\n",
            "Unkown            1\n",
            "Name: count, dtype: int64\n"
          ]
        }
      ],
      "source": [
        "import pandas as pd\n",
        "\n",
        "# Load the dataset\n",
        "url = 'https://raw.githubusercontent.com/JuliaData/CSV.jl/refs/heads/main/test/testfiles/Sacramentorealestatetransactions.csv'\n",
        "df = pd.read_csv(url)\n",
        "\n",
        "# 1. Find the number of columns in the data frame\n",
        "num_columns = len(df.columns)\n",
        "print(\"Number of columns:\", num_columns)\n",
        "\n",
        "# 2. Find the mean of the house prices\n",
        "mean_price = df['price'].mean()\n",
        "print(\"Mean house price:\", mean_price)\n",
        "\n",
        "# 3. Find the median of the house prices\n",
        "median_price = df['price'].median()\n",
        "print(\"Median house price:\", median_price)\n",
        "\n",
        "# 4. Find the different types of property in the dataset\n",
        "property_types = df['type'].unique()\n",
        "print(\"Different types of property:\", property_types)\n",
        "\n",
        "# 5. Find the maximum price of a \"Condo\" in the dataset\n",
        "max_condo_price = df[df['type'] == 'Condo']['price'].max()\n",
        "print(\"Maximum price of a Condo:\", max_condo_price)\n",
        "\n",
        "# 6. Find the mean price of each type of property in the dataset\n",
        "mean_price_by_type = df.groupby('type')['price'].mean()\n",
        "print(\"Mean price by property type:\")\n",
        "print(mean_price_by_type)\n",
        "\n",
        "# 7. Find the count of different property types in the dataset\n",
        "count_by_type = df['type'].value_counts()\n",
        "print(\"Count of different property types:\")\n",
        "print(count_by_type)\n"
      ]
    },
    {
      "cell_type": "code",
      "source": [],
      "metadata": {
        "id": "S9EGf-xmSj6n"
      },
      "execution_count": null,
      "outputs": []
    }
  ]
}